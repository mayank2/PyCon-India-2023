{
  "cells": [
    {
      "cell_type": "code",
      "execution_count": null,
      "metadata": {
        "id": "LOVhdl6VVi6R"
      },
      "outputs": [],
      "source": [
        "import os\n",
        "import numpy as np\n",
        "import scipy\n",
        "from PIL import Image\n",
        "import torch\n",
        "from torchvision.models import inception_v3\n",
        "from torchvision import transforms\n",
        "from torch.utils.data import Dataset, DataLoader"
      ]
    },
    {
      "cell_type": "code",
      "execution_count": null,
      "metadata": {
        "id": "8VI4mz9BVi6S"
      },
      "outputs": [],
      "source": [
        "transform = transforms.Compose([\n",
        "    transforms.Resize(299),\n",
        "    transforms.CenterCrop(299),\n",
        "    transforms.ToTensor(),\n",
        "    transforms.Normalize((0.5, 0.5, 0.5), (0.5, 0.5, 0.5)),\n",
        "])"
      ]
    },
    {
      "cell_type": "code",
      "execution_count": null,
      "metadata": {
        "id": "NXVetPwkVi6T"
      },
      "outputs": [],
      "source": [
        "class CustomImageDataset(Dataset):\n",
        "    def __init__(self, root_dir, transform=None):\n",
        "        self.root_dir = root_dir\n",
        "        self.transform = transform\n",
        "        self.image_files = [f for f in os.listdir(root_dir) if f.lower().endswith(('.png', '.jpg', '.jpeg', '.gif'))]\n",
        "\n",
        "    def __len__(self):\n",
        "        return len(self.image_files)\n",
        "\n",
        "    def __getitem__(self, idx):\n",
        "        image_name = os.path.join(self.root_dir, self.image_files[idx])\n",
        "        image = Image.open(image_name)\n",
        "\n",
        "        if self.transform:\n",
        "            image = self.transform(image)\n",
        "\n",
        "        return image"
      ]
    },
    {
      "cell_type": "code",
      "source": [
        "real_data = 'real_images/' # path to the real images folder\n",
        "generated_data = 'generated_images/' # path to the generated images folder\n",
        "\n",
        "custom_dataset_real = CustomImageDataset(root_dir=real_data, transform=transform)\n",
        "custom_dataset_generated = CustomImageDataset(root_dir=generated_data, transform=transform)"
      ],
      "metadata": {
        "id": "iEXeMF11gwFs"
      },
      "execution_count": null,
      "outputs": []
    },
    {
      "cell_type": "code",
      "execution_count": null,
      "metadata": {
        "id": "x9q_hc6CVi6T"
      },
      "outputs": [],
      "source": [
        "data_loader_real = DataLoader(custom_dataset_real, batch_size=32, shuffle=True)\n",
        "data_loader_generated = DataLoader(custom_dataset_generated, batch_size=32, shuffle=True)"
      ]
    },
    {
      "cell_type": "code",
      "execution_count": null,
      "metadata": {
        "id": "cVRpbjE_Vi6T"
      },
      "outputs": [],
      "source": [
        "inception_model = inception_v3(weights = 'Inception_V3_Weights.IMAGENET1K_V1').to('cpu') # loading pretrained InceptionV3 model\n",
        "inception_model = inception_model.eval() # Evaluation mode\n",
        "inception_model.fc = torch.nn.Identity() # replacing fully connected layer with identity layer"
      ]
    },
    {
      "cell_type": "code",
      "execution_count": null,
      "metadata": {
        "id": "zQwifmSvVi6U",
        "outputId": "8176efa5-d40e-430c-9214-7d934fa843c8"
      },
      "outputs": [
        {
          "name": "stderr",
          "output_type": "stream",
          "text": [
            "4it [00:22,  5.50s/it]\n"
          ]
        }
      ],
      "source": [
        "generated_features_list = []\n",
        "real_features_list = []\n",
        "with torch.no_grad():\n",
        "    for real, generated in zip(data_loader_real, data_loader_generated): # iterate over real and generated features\n",
        "\n",
        "        real_features = inception_model(real).detach() # extract real image features\n",
        "        real_features_list.append(real_features) # append features to the list\n",
        "\n",
        "        generated_features = inception_model(generated).detach() # extract generated image features\n",
        "        generated_features_list.append(generated_features) # append features to the list\n",
        "\n",
        "generated_features_all = torch.cat(generated_features_list)\n",
        "real_features_all = torch.cat(real_features_list)"
      ]
    },
    {
      "cell_type": "code",
      "execution_count": null,
      "metadata": {
        "id": "15CzOdR-Vi6V"
      },
      "outputs": [],
      "source": [
        "mu_generated = generated_features_all.mean(0)\n",
        "mu_real = real_features_all.mean(0)\n",
        "sigma_generated = torch.Tensor(np.cov(generated_features_all.detach().numpy(), rowvar=False))\n",
        "sigma_real = torch.Tensor(np.cov(real_features_all.detach().numpy(), rowvar=False))"
      ]
    },
    {
      "cell_type": "code",
      "execution_count": null,
      "metadata": {
        "id": "1SD95eEwVi6V"
      },
      "outputs": [],
      "source": [
        "def matrix_sqrt(x): # returns the square root of a matrix\n",
        "    y = x.cpu().detach().numpy()\n",
        "    y = scipy.linalg.sqrtm(y)\n",
        "    return torch.Tensor(y.real, device=x.device)"
      ]
    },
    {
      "cell_type": "code",
      "execution_count": null,
      "metadata": {
        "id": "mwqNpn2DVi6V"
      },
      "outputs": [],
      "source": [
        "fid = ((mu_generated - mu_real)**2).sum() + sigma_generated.trace() + sigma_real.trace() - 2*torch.trace(matrix_sqrt(sigma_generated @ sigma_real))\n",
        "print(fid)"
      ]
    }
  ],
  "metadata": {
    "kernelspec": {
      "display_name": "fastai_diff",
      "language": "python",
      "name": "fastai_diff"
    },
    "language_info": {
      "codemirror_mode": {
        "name": "ipython",
        "version": 3
      },
      "file_extension": ".py",
      "mimetype": "text/x-python",
      "name": "python",
      "nbconvert_exporter": "python",
      "pygments_lexer": "ipython3",
      "version": "3.9.15"
    },
    "colab": {
      "provenance": []
    }
  },
  "nbformat": 4,
  "nbformat_minor": 0
}